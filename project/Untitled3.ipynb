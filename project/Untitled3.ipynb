{
 "cells": [
  {
   "cell_type": "code",
   "execution_count": 1,
   "metadata": {},
   "outputs": [],
   "source": [
    "import csv\n",
    " \n",
    "#read file, for example\n",
    "file_path = 'C:/Users/chenxihui/Desktop/code/project/2010.csv'\n",
    "file = open(file_path)\n",
    "data = []\n",
    "for i in file.readlines():\n",
    "    data.append(i)\n",
    "file.close()"
   ]
  },
  {
   "cell_type": "code",
   "execution_count": 3,
   "metadata": {},
   "outputs": [],
   "source": [
    "new_data = []\n",
    "for row in data:\n",
    "    tmp = row.strip('\\n')  #去掉每行最后的回车符\n",
    "    tmp = tmp.split(',')   #根据','来分割字符串，使之成为含有一个个数据的列表\n",
    "    new_data.append(tmp)   #new_data的每一行数据就是一个列表"
   ]
  },
  {
   "cell_type": "code",
   "execution_count": 4,
   "metadata": {},
   "outputs": [],
   "source": [
    "select_data = []\n",
    "length=len(new_data)\n",
    "for i in range(length):\n",
    "    if(new_data[i][0]=='2' or new_data[i][0]=='13' or new_data[i][0]=='14' or new_data[i][0]=='20' or new_data[i][0]=='33' or new_data[i][0]=='35' or new_data[i][0]=='38' or new_data[i][0]=='39' or new_data[i][0]=='56' or new_data[i][0]=='69' or new_data[i][0]=='73' or new_data[i][0]=='74' or new_data[i][0]=='75' or new_data[i][0]=='82' or new_data[i][0]=='87' or new_data[i][0]=='88' or new_data[i][0]=='101' or new_data[i][0]=='104' or new_data[i][0]=='106' or new_data[i][0]=='109' or new_data[i][0]=='110' or new_data[i][0]=='119' or new_data[i][0]=='124' or new_data[i][0]=='130' or new_data[i][0]=='137' or new_data[i][0]=='141' or new_data[i][0]=='144' or new_data[i][0]=='152' or new_data[i][0]=='153' or new_data[i][0]=='157' or new_data[i][0]=='161' or new_data[i][0]=='169' or new_data[i][0]=='176' or new_data[i][0]=='184' or new_data[i][0]=='188' or new_data[i][0]=='189' or new_data[i][0]=='193' or new_data[i][0]=='201' or new_data[i][0]=='202' or new_data[i][0]=='204' or new_data[i][0]=='206' or new_data[i][0]=='207' or new_data[i][0]=='210' or new_data[i][0]=='211' or new_data[i][0]=='212' or new_data[i][0]=='214' or new_data[i][0]=='218' or new_data[i][0]=='244' or new_data[i][0]=='246' or new_data[i][0]=='253' or new_data[i][0]=='256' or new_data[i][0]=='273' or new_data[i][0]=='276' or new_data[i][0]=='297'):\n",
    "        select_data.append(new_data[i][3:])#[5:]"
   ]
  },
  {
   "cell_type": "code",
   "execution_count": 5,
   "metadata": {},
   "outputs": [],
   "source": [
    "GC=[]\n",
    "CL=[]\n",
    "GG=[]\n",
    "Length_select_data = len(select_data)\n",
    "for i in range(Length_select_data):\n",
    "    if(select_data[i][0]=='GC'):\n",
    "        GC.append(select_data[i][2:])\n",
    "    elif(select_data[i][0]=='CL'):\n",
    "        CL.append(select_data[i][2:])\n",
    "    else:\n",
    "        GG.append(select_data[i][2:])"
   ]
  },
  {
   "cell_type": "code",
   "execution_count": 6,
   "metadata": {},
   "outputs": [
    {
     "data": {
      "text/plain": [
       "array([0.   , 0.   , 0.   , 0.   , 0.   , 0.   , 0.   , 0.   , 0.   ,\n",
       "       0.   , 0.   , 0.   , 0.   , 0.   , 0.   , 0.031, 0.063, 0.069,\n",
       "       0.069, 0.15 , 0.125, 0.125, 0.119, 0.125, 0.088, 0.069, 0.075,\n",
       "       0.063, 0.038, 0.05 , 0.044, 0.031, 0.006, 0.   , 0.   , 0.   ,\n",
       "       0.   , 0.   , 0.   , 0.   , 0.   , 0.   , 0.   , 0.   , 0.   ,\n",
       "       0.   , 0.   , 0.   ])"
      ]
     },
     "execution_count": 6,
     "metadata": {},
     "output_type": "execute_result"
    }
   ],
   "source": [
    "import numpy as np\n",
    "\n",
    "GC_temp=np.array(GC)\n",
    "GC_array=[]\n",
    "GC_array = GC_temp.astype(np.float)#春季有90天，夏季有91天，秋有92天，冬有92天\n",
    "\n",
    "CL_temp=np.array(CL)\n",
    "CL_array=[]\n",
    "CL_array = CL_temp.astype(np.float)\n",
    "\n",
    "GG_temp=np.array(GG)\n",
    "GG_array=[]\n",
    "GG_array = GG_temp.astype(np.float)\n",
    "GG_array[1]"
   ]
  },
  {
   "cell_type": "code",
   "execution_count": 7,
   "metadata": {},
   "outputs": [],
   "source": [
    "from sklearn.cluster import KMeans\n",
    "import matplotlib.pyplot as plt"
   ]
  },
  {
   "cell_type": "code",
   "execution_count": 8,
   "metadata": {},
   "outputs": [],
   "source": [
    "from collections import defaultdict\n",
    "from random import uniform\n",
    "from math import sqrt\n",
    "\n",
    "\n",
    "\n",
    "def point_avg(points):\n",
    "    \"\"\"\n",
    "    Accepts a list of points, each with the same number of dimensions.\n",
    "    NB. points can have more dimensions than 2\n",
    "    \n",
    "    Returns a new point which is the center of all the points.\n",
    "    \"\"\"\n",
    "    dimensions = len(points[0])\n",
    "\n",
    "    new_center = []\n",
    "\n",
    "    for dimension in range(dimensions):\n",
    "        dim_sum = 0  # dimension sum\n",
    "        for p in points:\n",
    "            dim_sum += p[dimension]\n",
    "\n",
    "        # average of each dimension\n",
    "        new_center.append(dim_sum / float(len(points)))\n",
    "\n",
    "    return new_center\n",
    "\n",
    "\n",
    "def update_centers(data_set, assignments):\n",
    "    \"\"\"\n",
    "    Accepts a dataset and a list of assignments; the indexes \n",
    "    of both lists correspond to each other.\n",
    "    Compute the center for each of the assigned groups.\n",
    "    Return `k` centers where `k` is the number of unique assignments.\n",
    "    \"\"\"\n",
    "    new_means = defaultdict(list)\n",
    "    centers = []\n",
    "    for assignment, point in zip(assignments, data_set):\n",
    "        new_means[assignment].append(point)\n",
    "        \n",
    "    for points in new_means.values():\n",
    "        centers.append(point_avg(points))\n",
    "\n",
    "    return centers\n",
    "\n",
    "\n",
    "def assign_points(data_points, centers):\n",
    "    \"\"\"\n",
    "    Given a data set and a list of points betweeen other points,\n",
    "    assign each point to an index that corresponds to the index\n",
    "    of the center point on it's proximity to that point. \n",
    "    Return a an array of indexes of centers that correspond to\n",
    "    an index in the data set; that is, if there are N points\n",
    "    in `data_set` the list we return will have N elements. Also\n",
    "    If there are Y points in `centers` there will be Y unique\n",
    "    possible values within the returned list.\n",
    "    \"\"\"\n",
    "    assignments = []\n",
    "    for point in data_points:\n",
    "        shortest = (1000)  # positive infinity\n",
    "        shortest_index = 0\n",
    "        for i in range(len(centers)):\n",
    "            val = distance(point, centers[i])\n",
    "            if(val < shortest):\n",
    "                shortest = val\n",
    "                shortest_index = i\n",
    "        assignments.append(shortest_index)\n",
    "    return assignments\n",
    "\n",
    "\n",
    "def distance(a, b):\n",
    "    \"\"\"\n",
    "    \"\"\"\n",
    "    dimensions = len(a)\n",
    "    \n",
    "    _sum = 0\n",
    "    for dimension in range(dimensions):\n",
    "        difference_sq = (a[dimension] - b[dimension]) ** 2\n",
    "        _sum += difference_sq\n",
    "    return sqrt(_sum)\n",
    "\n",
    "\n",
    "def generate_k(data_set, k):\n",
    "    \"\"\"\n",
    "    Given `data_set`, which is an array of arrays,\n",
    "    find the minimum and maximum for each coordinate, a range.\n",
    "    Generate `k` random points between the ranges.\n",
    "    Return an array of the random points within the ranges.\n",
    "    \"\"\"\n",
    "    centers = []\n",
    "    dimensions = len(data_set[0])\n",
    "    min_max = defaultdict(int)\n",
    "\n",
    "    for point in data_set:\n",
    "        for i in range(dimensions):\n",
    "            val = point[i]\n",
    "            min_key = 'min_%d' % i\n",
    "            max_key = 'max_%d' % i\n",
    "            if min_key not in min_max or val < min_max[min_key]:\n",
    "                min_max[min_key] = val\n",
    "            if max_key not in min_max or val > min_max[max_key]:\n",
    "                min_max[max_key] = val\n",
    "\n",
    "    for _k in range(k):\n",
    "        rand_point = []\n",
    "        for i in range(dimensions):\n",
    "            min_val = min_max['min_%d' % i]\n",
    "            max_val = min_max['max_%d' % i]\n",
    "            \n",
    "            rand_point.append(uniform(min_val, max_val))\n",
    "\n",
    "        centers.append(rand_point)\n",
    "\n",
    "    return centers\n",
    "\n",
    "\n",
    "def k_means(dataset, k):\n",
    "    k_points = generate_k(dataset, k)\n",
    "    assignments = assign_points(dataset, k_points)\n",
    "    old_assignments = None\n",
    "    centers_history = []\n",
    "    while assignments != old_assignments:\n",
    "        new_centers = update_centers(dataset, assignments)\n",
    "        centers_history.append(new_centers)\n",
    "        old_assignments = assignments\n",
    "        assignments = assign_points(dataset, new_centers)#centers_history[-1]\n",
    "\n",
    "    return zip(assignments, dataset),centers_history"
   ]
  },
  {
   "cell_type": "code",
   "execution_count": 9,
   "metadata": {},
   "outputs": [
    {
     "name": "stdout",
     "output_type": "stream",
     "text": [
      "(0, array([0.085, 0.142, 0.082, 0.119, 0.105, 0.088, 0.139, 0.057, 0.139,\n",
      "       0.089, 0.098, 0.116, 0.067, 0.132, 0.16 , 0.391, 1.638, 1.557,\n",
      "       0.579, 0.21 , 0.432, 0.606, 0.199, 0.35 , 0.25 , 0.19 , 0.172,\n",
      "       0.19 , 0.148, 0.363, 0.115, 0.21 , 0.1  , 0.172, 0.079, 0.388,\n",
      "       2.164, 2.035, 0.783, 0.859, 0.402, 0.283, 0.195, 0.297, 0.203,\n",
      "       0.303, 0.307, 0.179]))\n"
     ]
    }
   ],
   "source": [
    "out,final_center = k_means(GC_array, 5)\n",
    "list = []   # so, we need to show it in list\n",
    "for i in out:\n",
    "    list.append(i)\n",
    "print(list[0])"
   ]
  },
  {
   "cell_type": "code",
   "execution_count": 33,
   "metadata": {},
   "outputs": [
    {
     "data": {
      "text/plain": [
       "3.035873705856248"
      ]
     },
     "execution_count": 33,
     "metadata": {},
     "output_type": "execute_result"
    }
   ],
   "source": [
    "dist1=[]\n",
    "dist2=[]\n",
    "dist3=[]\n",
    "dist4=[]\n",
    "dist5=[]\n",
    "label_pred=[]\n",
    "points=[]\n",
    "length_list=len(list)\n",
    "for i in range(length_list):\n",
    "    if(list[i][0]==0):\n",
    "        dist1.append(distance(GC_array[i],final_center[-1][0]))\n",
    "    elif(list[i][0]==1):\n",
    "        dist2.append(distance(GC_array[i],final_center[-1][1]))\n",
    "    elif(list[i][0]==2):\n",
    "        dist3.append(distance(GC_array[i],final_center[-1][2]))\n",
    "    elif(list[i][0]==3):\n",
    "        dist4.append(distance(GC_array[i],final_center[-1][3]))\n",
    "    elif(list[i][0]==4):\n",
    "        dist5.append(distance(GC_array[i],final_center[-1][4]))\n",
    "dist1[0]"
   ]
  },
  {
   "cell_type": "code",
   "execution_count": 34,
   "metadata": {},
   "outputs": [
    {
     "data": {
      "image/png": "[encoded data removed]",
      "text/plain": [
       "<Figure size 432x288 with 1 Axes>"
      ]
     },
     "metadata": {
      "needs_background": "light"
     },
     "output_type": "display_data"
    }
   ],
   "source": [
    "import numpy as np\n",
    "dist11=dist1\n",
    "dist11.sort()\n",
    "max_dist11=dist11[-1]\n",
    "len_dist11=len(dist11)\n",
    "for i in range(len_dist11):\n",
    "    theta=(i+1)*360/(len_dist11+1)\n",
    "    x=max_dist11+dist11[i]*np.cos(theta)\n",
    "    y=max_dist11+dist11[i]*np.sin(theta)\n",
    "    plt.plot(x,y,c='b',marker='.')\n",
    "plt.plot(max_dist11, max_dist11, c='k', marker='.')\n",
    "plt.show()"
   ]
  },
  {
   "cell_type": "code",
   "execution_count": 13,
   "metadata": {},
   "outputs": [
    {
     "data": {
      "text/plain": [
       "(array([0.085, 0.142, 0.082, 0.119, 0.105, 0.088, 0.139, 0.057, 0.139,\n",
       "        0.089, 0.098, 0.116, 0.067, 0.132, 0.16 , 0.391, 1.638, 1.557,\n",
       "        0.579, 0.21 , 0.432, 0.606, 0.199, 0.35 , 0.25 , 0.19 , 0.172,\n",
       "        0.19 , 0.148, 0.363, 0.115, 0.21 , 0.1  , 0.172, 0.079, 0.388,\n",
       "        2.164, 2.035, 0.783, 0.859, 0.402, 0.283, 0.195, 0.297, 0.203,\n",
       "        0.303, 0.307, 0.179]),)"
      ]
     },
     "execution_count": 13,
     "metadata": {},
     "output_type": "execute_result"
    }
   ],
   "source": [
    "for i in range(length_list):\n",
    "    label_pred.append(list[i][0])\n",
    "    points.append(list[i][1:])\n",
    "points[1]"
   ]
  },
  {
   "cell_type": "code",
   "execution_count": 18,
   "metadata": {},
   "outputs": [
    {
     "data": {
      "text/plain": [
       "48"
      ]
     },
     "execution_count": 18,
     "metadata": {},
     "output_type": "execute_result"
    }
   ],
   "source": [
    "len(final_center[-1][3])"
   ]
  },
  {
   "cell_type": "code",
   "execution_count": 21,
   "metadata": {},
   "outputs": [
    {
     "data": {
      "text/plain": [
       "48"
      ]
     },
     "execution_count": 21,
     "metadata": {},
     "output_type": "execute_result"
    }
   ],
   "source": [
    "len(GC_array[1])"
   ]
  },
  {
   "cell_type": "code",
   "execution_count": 31,
   "metadata": {},
   "outputs": [
    {
     "data": {
      "text/plain": [
       "1"
      ]
     },
     "execution_count": 31,
     "metadata": {},
     "output_type": "execute_result"
    }
   ],
   "source": [
    "list[1][0]"
   ]
  },
  {
   "cell_type": "code",
   "execution_count": 35,
   "metadata": {},
   "outputs": [
    {
     "name": "stdout",
     "output_type": "stream",
     "text": [
      "(2, array([0.391, 0.378, 0.13 , 0.2  , 0.202, 0.134, 0.171, 0.152, 0.149,\n",
      "       0.137, 0.166, 0.111, 0.178, 0.101, 0.148, 0.138, 0.727, 1.555,\n",
      "       1.518, 1.737, 1.51 , 1.54 , 1.526, 1.575, 1.179, 0.313, 0.331,\n",
      "       0.273, 0.341, 0.366, 0.311, 0.278, 0.312, 0.265, 1.386, 1.735,\n",
      "       1.78 , 0.654, 0.422, 0.361, 1.072, 1.631, 1.557, 1.301, 1.309,\n",
      "       1.368, 1.582, 0.533]))\n"
     ]
    }
   ],
   "source": [
    "print(list[3])"
   ]
  },
  {
   "cell_type": "code",
   "execution_count": 38,
   "metadata": {},
   "outputs": [
    {
     "name": "stdout",
     "output_type": "stream",
     "text": [
      "4.35699170897343\n",
      "4.199268363462646\n",
      "3.98575809218788\n",
      "5.383674201085673\n",
      "6.832245999011432\n"
     ]
    }
   ],
   "source": [
    "print(distance(GC_array[3],final_center[-1][0]))\n",
    "print(distance(GC_array[3],final_center[-1][1]))\n",
    "print(distance(GC_array[3],final_center[-1][2]))\n",
    "print(distance(GC_array[3],final_center[-1][3]))\n",
    "print(distance(GC_array[3],final_center[-1][4]))"
   ]
  },
  {
   "cell_type": "code",
   "execution_count": 39,
   "metadata": {},
   "outputs": [
    {
     "data": {
      "text/plain": [
       "array([0.391, 0.378, 0.13 , 0.2  , 0.202, 0.134, 0.171, 0.152, 0.149,\n",
       "       0.137, 0.166, 0.111, 0.178, 0.101, 0.148, 0.138, 0.727, 1.555,\n",
       "       1.518, 1.737, 1.51 , 1.54 , 1.526, 1.575, 1.179, 0.313, 0.331,\n",
       "       0.273, 0.341, 0.366, 0.311, 0.278, 0.312, 0.265, 1.386, 1.735,\n",
       "       1.78 , 0.654, 0.422, 0.361, 1.072, 1.631, 1.557, 1.301, 1.309,\n",
       "       1.368, 1.582, 0.533])"
      ]
     },
     "execution_count": 39,
     "metadata": {},
     "output_type": "execute_result"
    }
   ],
   "source": [
    "GC_array[3]"
   ]
  },
  {
   "cell_type": "code",
   "execution_count": null,
   "metadata": {},
   "outputs": [],
   "source": []
  }
 ],
 "metadata": {
  "kernelspec": {
   "display_name": "chen",
   "language": "python",
   "name": "chen"
  },
  "language_info": {
   "codemirror_mode": {
    "name": "ipython",
    "version": 3
   },
   "file_extension": ".py",
   "mimetype": "text/x-python",
   "name": "python",
   "nbconvert_exporter": "python",
   "pygments_lexer": "ipython3",
   "version": "3.6.5"
  }
 },
 "nbformat": 4,
 "nbformat_minor": 2
}
