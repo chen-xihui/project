{
 "cells": [
  {
   "cell_type": "code",
   "execution_count": 1,
   "metadata": {},
   "outputs": [
    {
     "name": "stdout",
     "output_type": "stream",
     "text": [
      "[[[3.685, 3.0], [11.25, 10.0], [11.0, 5.0]]]\n",
      "[[[3.685, 3.0], [11.25, 10.0], [11.0, 5.0]], [[3.685, 3.0], [11.25, 10.0], [11.0, 5.0]]]\n",
      "(<zip object at 0x000002E5AE398508>, [[[3.685, 3.0], [11.25, 10.0], [11.0, 5.0]], [[3.685, 3.0], [11.25, 10.0], [11.0, 5.0]]])\n"
     ]
    }
   ],
   "source": [
    "from collections import defaultdict\n",
    "from random import uniform\n",
    "from math import sqrt\n",
    "\n",
    "\n",
    "\n",
    "def point_avg(points):\n",
    "    \"\"\"\n",
    "    Accepts a list of points, each with the same number of dimensions.\n",
    "    NB. points can have more dimensions than 2\n",
    "    \n",
    "    Returns a new point which is the center of all the points.\n",
    "    \"\"\"\n",
    "    dimensions = len(points[0])\n",
    "\n",
    "    new_center = []\n",
    "\n",
    "    for dimension in range(dimensions):\n",
    "        dim_sum = 0  # dimension sum\n",
    "        for p in points:\n",
    "            dim_sum += p[dimension]\n",
    "\n",
    "        # average of each dimension\n",
    "        new_center.append(dim_sum / float(len(points)))\n",
    "\n",
    "    return new_center\n",
    "\n",
    "\n",
    "def update_centers(data_set, assignments):\n",
    "    \"\"\"\n",
    "    Accepts a dataset and a list of assignments; the indexes \n",
    "    of both lists correspond to each other.\n",
    "    Compute the center for each of the assigned groups.\n",
    "    Return `k` centers where `k` is the number of unique assignments.\n",
    "    \"\"\"\n",
    "    new_means = defaultdict(list)\n",
    "    centers = []\n",
    "    for assignment, point in zip(assignments, data_set):\n",
    "        new_means[assignment].append(point)\n",
    "        \n",
    "    for points in new_means.values():\n",
    "        centers.append(point_avg(points))\n",
    "        \n",
    "    return centers\n",
    "\n",
    "\n",
    "def assign_points(data_points, centers):\n",
    "    \"\"\"\n",
    "    Given a data set and a list of points betweeen other points,\n",
    "    assign each point to an index that corresponds to the index\n",
    "    of the center point on it's proximity to that point. \n",
    "    Return a an array of indexes of centers that correspond to\n",
    "    an index in the data set; that is, if there are N points\n",
    "    in `data_set` the list we return will have N elements. Also\n",
    "    If there are Y points in `centers` there will be Y unique\n",
    "    possible values within the returned list.\n",
    "    \"\"\"\n",
    "    assignments = []\n",
    "    for point in data_points:\n",
    "        shortest = (1000)  # positive infinity\n",
    "        shortest_index = 0\n",
    "        for i in range(len(centers)):\n",
    "            val = distance(point, centers[i])\n",
    "            if(val < shortest):\n",
    "                shortest = val\n",
    "                shortest_index = i\n",
    "        assignments.append(shortest_index)\n",
    "    return assignments\n",
    "\n",
    "\n",
    "def distance(a, b):\n",
    "    \"\"\"\n",
    "    \"\"\"\n",
    "    dimensions = len(a)\n",
    "    \n",
    "    _sum = 0\n",
    "    for dimension in range(dimensions):\n",
    "        difference_sq = (a[dimension] - b[dimension]) ** 2\n",
    "        _sum += difference_sq\n",
    "    return sqrt(_sum)\n",
    "\n",
    "\n",
    "def generate_k(data_set, k):\n",
    "    \"\"\"\n",
    "    Given `data_set`, which is an array of arrays,\n",
    "    find the minimum and maximum for each coordinate, a range.\n",
    "    Generate `k` random points between the ranges.\n",
    "    Return an array of the random points within the ranges.\n",
    "    \"\"\"\n",
    "    centers = []\n",
    "    dimensions = len(data_set[0])\n",
    "    min_max = defaultdict(int)\n",
    "\n",
    "    for point in data_set:\n",
    "        for i in range(dimensions):\n",
    "            val = point[i]\n",
    "            min_key = 'min_%d' % i\n",
    "            max_key = 'max_%d' % i\n",
    "            if min_key not in min_max or val < min_max[min_key]:\n",
    "                min_max[min_key] = val\n",
    "            if max_key not in min_max or val > min_max[max_key]:\n",
    "                min_max[max_key] = val\n",
    "\n",
    "    for _k in range(k):\n",
    "        rand_point = []\n",
    "        for i in range(dimensions):\n",
    "            min_val = min_max['min_%d' % i]\n",
    "            max_val = min_max['max_%d' % i]\n",
    "            \n",
    "            rand_point.append(uniform(min_val, max_val))\n",
    "\n",
    "        centers.append(rand_point)\n",
    "\n",
    "    return centers\n",
    "\n",
    "\n",
    "def k_means(dataset, k):\n",
    "    k_points = generate_k(dataset, k)\n",
    "    assignments = assign_points(dataset, k_points)\n",
    "    old_assignments = None\n",
    "    centers_history = []\n",
    "    while assignments != old_assignments:\n",
    "        new_centers = update_centers(dataset, assignments)\n",
    "        centers_history.append(new_centers)\n",
    "        old_assignments = assignments\n",
    "        assignments = assign_points(dataset, new_centers)#centers_history[-1]\n",
    "        print(centers_history)\n",
    "\n",
    "    return zip(assignments, dataset),centers_history\n",
    "\n",
    "\n",
    "points = [\n",
    "     [1.11, 2],\n",
    "     [2, 1],\n",
    "     [3, 1],\n",
    "     [5, 4],\n",
    "     [5, 5],\n",
    "     [6, 5],\n",
    "     [10, 8],\n",
    "     [7, 9],\n",
    "     [11, 5],\n",
    "     [14, 9],\n",
    "     [14, 14],\n",
    "     ]\n",
    "print(k_means(points, 3))"
   ]
  },
  {
   "cell_type": "code",
   "execution_count": 2,
   "metadata": {},
   "outputs": [
    {
     "name": "stdout",
     "output_type": "stream",
     "text": [
      "[(0, [1.11, 2]), (0, [2, 1]), (0, [3, 1]), (0, [5, 4]), (0, [5, 5]), (0, [6, 5]), (1, [10, 8]), (1, [7, 9]), (1, [11, 5]), (2, [14, 9]), (2, [14, 14])]\n"
     ]
    }
   ],
   "source": [
    "out = k_means(points, 3)\n",
    "list = []   # so, we need to show it in list\n",
    "for i in out:\n",
    "    list.append(i)\n",
    "print(list)"
   ]
  },
  {
   "cell_type": "code",
   "execution_count": 3,
   "metadata": {},
   "outputs": [
    {
     "name": "stdout",
     "output_type": "stream",
     "text": [
      "[(0, [1.11, 2]), (0, [2, 1]), (0, [3, 1]), (0, [5, 4]), (0, [5, 5]), (0, [6, 5]), (1, [10, 8]), (1, [7, 9]), (1, [11, 5]), (1, [14, 9]), (1, [14, 14])]\n",
      "centers are [[[4.158571428571428, 3.857142857142857], [12.25, 9.0]], [[3.685, 3.0], [11.2, 9.0]]]\n"
     ]
    }
   ],
   "source": [
    "out,history = k_means(points, 3)\n",
    "list = []   # so, we need to show it in list\n",
    "for i in out:\n",
    "    list.append(i)\n",
    "print(list)\n",
    "print(\"centers are\", history)"
   ]
  },
  {
   "cell_type": "code",
   "execution_count": 2,
   "metadata": {},
   "outputs": [
    {
     "name": "stdout",
     "output_type": "stream",
     "text": [
      "[[[6.345555555555555, 4.444444444444445], [10.5, 11.5]]]\n",
      "[[[6.345555555555555, 4.444444444444445], [10.5, 11.5]], [[4.7299999999999995, 3.2857142857142856], [11.25, 10.0]]]\n",
      "[[[6.345555555555555, 4.444444444444445], [10.5, 11.5]], [[4.7299999999999995, 3.2857142857142856], [11.25, 10.0]], [[3.685, 3.0], [11.2, 9.0]]]\n",
      "[(0, [1.11, 2]), (0, [2, 1]), (0, [3, 1]), (0, [5, 4]), (0, [5, 5]), (0, [6, 5]), (1, [10, 8]), (1, [7, 9]), (1, [11, 5]), (1, [14, 9]), (1, [14, 14])]\n",
      "centers are [[3.685, 3.0], [11.2, 9.0]]\n",
      "centers are [3.685, 3.0]\n"
     ]
    }
   ],
   "source": [
    "out,history = k_means(points, 3)\n",
    "list = []   # so, we need to show it in list\n",
    "for i in out:\n",
    "    list.append(i)\n",
    "print(list)\n",
    "print(\"centers are\", history[-1])\n",
    "print(\"centers are\", history[-1][0])"
   ]
  },
  {
   "cell_type": "code",
   "execution_count": 3,
   "metadata": {},
   "outputs": [
    {
     "data": {
      "text/plain": [
       "[0, 0, 0, 0, 0, 0, 1, 1, 1, 1, 2]"
      ]
     },
     "execution_count": 3,
     "metadata": {},
     "output_type": "execute_result"
    }
   ],
   "source": [
    "kinds=[]\n",
    "pos=[]\n",
    "length_list=len(list)\n",
    "for i in range(length_list):\n",
    "    kinds.append(list[i][0])\n",
    "    pos.append(list[i][1])\n",
    "kinds"
   ]
  },
  {
   "cell_type": "code",
   "execution_count": 4,
   "metadata": {},
   "outputs": [
    {
     "data": {
      "text/plain": [
       "[1]"
      ]
     },
     "execution_count": 4,
     "metadata": {},
     "output_type": "execute_result"
    }
   ],
   "source": [
    "a=[1,2,3]\n",
    "a[0:1]"
   ]
  },
  {
   "cell_type": "code",
   "execution_count": null,
   "metadata": {},
   "outputs": [],
   "source": []
  }
 ],
 "metadata": {
  "kernelspec": {
   "display_name": "chen",
   "language": "python",
   "name": "chen"
  },
  "language_info": {
   "codemirror_mode": {
    "name": "ipython",
    "version": 3
   },
   "file_extension": ".py",
   "mimetype": "text/x-python",
   "name": "python",
   "nbconvert_exporter": "python",
   "pygments_lexer": "ipython3",
   "version": "3.6.5"
  }
 },
 "nbformat": 4,
 "nbformat_minor": 2
}
