{
 "cells": [
  {
   "cell_type": "code",
   "execution_count": 1,
   "metadata": {},
   "outputs": [],
   "source": [
    "#对一个用户的365天进行先聚类，之后选取最多的类，即特征，之后对这些进行二次聚类\n",
    "import csv#只有54个数据\n",
    " \n",
    "#read file, for example\n",
    "file_path = 'C:/Users/chenxihui/Desktop/code/project/2010.csv'\n",
    "file = open(file_path)\n",
    "data = []\n",
    "for i in file.readlines():\n",
    "    data.append(i)\n",
    "file.close()"
   ]
  },
  {
   "cell_type": "code",
   "execution_count": 2,
   "metadata": {},
   "outputs": [],
   "source": [
    "new_data = []\n",
    "for row in data:\n",
    "    tmp = row.strip('\\n')  #去掉每行最后的回车符\n",
    "    tmp = tmp.split(',')   #根据','来分割字符串，使之成为含有一个个数据的列表\n",
    "    new_data.append(tmp)   #new_data的每一行数据就是一个列表"
   ]
  },
  {
   "cell_type": "code",
   "execution_count": 3,
   "metadata": {},
   "outputs": [],
   "source": [
    "select_data = []\n",
    "length=len(new_data)\n",
    "for i in range(length):\n",
    "    if(new_data[i][0]=='2' or new_data[i][0]=='13' or new_data[i][0]=='14' or new_data[i][0]=='20' or new_data[i][0]=='33' or new_data[i][0]=='35' or new_data[i][0]=='38' or new_data[i][0]=='39' or new_data[i][0]=='56' or new_data[i][0]=='69' or new_data[i][0]=='73' or new_data[i][0]=='74' or new_data[i][0]=='75' or new_data[i][0]=='82' or new_data[i][0]=='87' or new_data[i][0]=='88' or new_data[i][0]=='101' or new_data[i][0]=='104' or new_data[i][0]=='106' or new_data[i][0]=='109' or new_data[i][0]=='110' or new_data[i][0]=='119' or new_data[i][0]=='124' or new_data[i][0]=='130' or new_data[i][0]=='137' or new_data[i][0]=='141' or new_data[i][0]=='144' or new_data[i][0]=='152' or new_data[i][0]=='153' or new_data[i][0]=='157' or new_data[i][0]=='161' or new_data[i][0]=='169' or new_data[i][0]=='176' or new_data[i][0]=='184' or new_data[i][0]=='188' or new_data[i][0]=='189' or new_data[i][0]=='193' or new_data[i][0]=='201' or new_data[i][0]=='202' or new_data[i][0]=='204' or new_data[i][0]=='206' or new_data[i][0]=='207' or new_data[i][0]=='210' or new_data[i][0]=='211' or new_data[i][0]=='212' or new_data[i][0]=='214' or new_data[i][0]=='218' or new_data[i][0]=='244' or new_data[i][0]=='246' or new_data[i][0]=='253' or new_data[i][0]=='256' or new_data[i][0]=='273' or new_data[i][0]=='276' or new_data[i][0]=='297'):\n",
    "        select_data.append(new_data[i][3:])#[5:]"
   ]
  },
  {
   "cell_type": "code",
   "execution_count": 4,
   "metadata": {},
   "outputs": [],
   "source": [
    "GC=[]\n",
    "CL=[]\n",
    "GG=[]\n",
    "Length_select_data = len(select_data)\n",
    "for i in range(Length_select_data):\n",
    "    if(select_data[i][0]=='GC'):\n",
    "        GC.append(select_data[i][2:])\n",
    "    elif(select_data[i][0]=='CL'):\n",
    "        CL.append(select_data[i][2:])\n",
    "    else:\n",
    "        GG.append(select_data[i][2:])"
   ]
  },
  {
   "cell_type": "code",
   "execution_count": 5,
   "metadata": {},
   "outputs": [
    {
     "data": {
      "text/plain": [
       "array([0.   , 0.   , 0.   , 0.   , 0.   , 0.   , 0.   , 0.   , 0.   ,\n",
       "       0.   , 0.   , 0.   , 0.   , 0.   , 0.   , 0.031, 0.063, 0.069,\n",
       "       0.069, 0.15 , 0.125, 0.125, 0.119, 0.125, 0.088, 0.069, 0.075,\n",
       "       0.063, 0.038, 0.05 , 0.044, 0.031, 0.006, 0.   , 0.   , 0.   ,\n",
       "       0.   , 0.   , 0.   , 0.   , 0.   , 0.   , 0.   , 0.   , 0.   ,\n",
       "       0.   , 0.   , 0.   ])"
      ]
     },
     "execution_count": 5,
     "metadata": {},
     "output_type": "execute_result"
    }
   ],
   "source": [
    "import numpy as np\n",
    "\n",
    "GC_temp=np.array(GC)\n",
    "GC_array=[]\n",
    "GC_array = GC_temp.astype(np.float)#春季有90天，夏季有91天，秋有92天，冬有92天\n",
    "\n",
    "CL_temp=np.array(CL)\n",
    "CL_array=[]\n",
    "CL_array = CL_temp.astype(np.float)\n",
    "\n",
    "GG_temp=np.array(GG)\n",
    "GG_array=[]\n",
    "GG_array = GG_temp.astype(np.float)\n",
    "GG_array[1]"
   ]
  },
  {
   "cell_type": "code",
   "execution_count": 29,
   "metadata": {},
   "outputs": [
    {
     "data": {
      "text/plain": [
       "[136184.7973061784,\n",
       " 123672.98446438019,\n",
       " 116602.9380574819,\n",
       " 110979.82185951885,\n",
       " 106565.89981235153,\n",
       " 102905.98964376561]"
      ]
     },
     "execution_count": 29,
     "metadata": {},
     "output_type": "execute_result"
    }
   ],
   "source": [
    "import pandas as pd  #手肘法求最佳分类点\n",
    "from sklearn.cluster import KMeans  \n",
    "import matplotlib.pyplot as plt  \n",
    "import multiprocessing\n",
    "from sklearn.metrics import silhouette_score   \n",
    "\n",
    "SSE = []  # 存放每次结果的误差平方和  \n",
    "for k in range(2,8):  \n",
    "    estimator = KMeans(n_clusters=k,n_jobs=multiprocessing.cpu_count(),)  # 构造聚类器  \n",
    "    estimator.fit(GC_array)  \n",
    "    SSE.append(estimator.inertia_) \n",
    "SSE    "
   ]
  },
  {
   "cell_type": "code",
   "execution_count": 36,
   "metadata": {},
   "outputs": [
    {
     "data": {
      "text/plain": [
       "[171791.60355393315,\n",
       " 136184.77389746625,\n",
       " 123672.98232123388,\n",
       " 116602.9380574819,\n",
       " 110978.39359226983,\n",
       " 106565.78354678255,\n",
       " 102907.7006150695,\n",
       " 100331.70100704093,\n",
       " 97359.27156245829,\n",
       " 95164.17341616141,\n",
       " 93379.72822742055,\n",
       " 91749.41474571449,\n",
       " 90162.79577469279,\n",
       " 88994.18726788484]"
      ]
     },
     "execution_count": 36,
     "metadata": {},
     "output_type": "execute_result"
    }
   ],
   "source": [
    "import pandas as pd  #手肘法求最佳分类点\n",
    "from sklearn.cluster import KMeans  \n",
    "import matplotlib.pyplot as plt  \n",
    "import multiprocessing\n",
    "from sklearn.metrics import silhouette_score   \n",
    "\n",
    "SSE = []  # 存放每次结果的误差平方和  \n",
    "for k in range(1,15):  \n",
    "    estimator = KMeans(n_clusters=k)  # 构造聚类器  \n",
    "    estimator.fit(GC_array)  \n",
    "    SSE.append(estimator.inertia_) \n",
    "SSE   "
   ]
  },
  {
   "cell_type": "code",
   "execution_count": 25,
   "metadata": {},
   "outputs": [
    {
     "name": "stdout",
     "output_type": "stream",
     "text": [
      "training cluster\n"
     ]
    },
    {
     "data": {
      "text/plain": [
       "[0.3858017342693903,\n",
       " 0.2839441900036668,\n",
       " 0.22471846006192886,\n",
       " 0.19569854097380673,\n",
       " 0.16103713654105106,\n",
       " 0.16901662449983165,\n",
       " 0.1785820741620664,\n",
       " 0.18172750180585973,\n",
       " 0.10945636056338563,\n",
       " 0.11868251075538969,\n",
       " 0.10035821802054462,\n",
       " 0.09151885087379041,\n",
       " 0.09224494567367436]"
      ]
     },
     "execution_count": 25,
     "metadata": {},
     "output_type": "execute_result"
    }
   ],
   "source": [
    "def train_cluster(train_vecs, model_name=None, start_k=2, end_k=15):\n",
    "    print('training cluster')\n",
    "    scores = []\n",
    "    models = []\n",
    "    for i in range(start_k, end_k):\n",
    "        kmeans_model = KMeans(n_clusters=i, n_jobs=multiprocessing.cpu_count(), )\n",
    "        kmeans_model.fit(train_vecs)\n",
    "        score = silhouette_score(train_vecs,kmeans_model.labels_,metric='euclidean')\n",
    "        scores.append(score)  # 保存每一个k值的score值, 在这里用欧式距离\n",
    "        #print('{} Means score loss = {}'.format(i, score))\n",
    "        models.append(kmeans_model)\n",
    "\n",
    "    best_model = models[scores.index(max(scores))]\n",
    "    return scores\n",
    "scores=train_cluster(GC_array, model_name=None, start_k=2, end_k=15)\n",
    "scores"
   ]
  },
  {
   "cell_type": "code",
   "execution_count": 38,
   "metadata": {},
   "outputs": [
    {
     "data": {
      "image/png": "[encoded data removed]",
      "text/plain": [
       "<Figure size 432x288 with 1 Axes>"
      ]
     },
     "metadata": {
      "needs_background": "light"
     },
     "output_type": "display_data"
    }
   ],
   "source": [
    "x = [i+1 for i in range(14)] \n",
    "plt.xlabel('k')  \n",
    "plt.ylabel('SSE')  \n",
    "plt.plot(x,SSE,'o-') \n",
    "plt.show() \n"
   ]
  },
  {
   "cell_type": "code",
   "execution_count": 28,
   "metadata": {},
   "outputs": [
    {
     "data": {
      "image/png": "[encoded data removed]",
      "text/plain": [
       "<Figure size 432x288 with 1 Axes>"
      ]
     },
     "metadata": {
      "needs_background": "light"
     },
     "output_type": "display_data"
    }
   ],
   "source": [
    "x = [i+1 for i in range(13)] \n",
    "plt.xlabel('k')  \n",
    "plt.ylabel('SC')  \n",
    "plt.plot(x,scores,'o-') \n",
    "plt.show() "
   ]
  },
  {
   "cell_type": "code",
   "execution_count": 6,
   "metadata": {},
   "outputs": [],
   "source": [
    "agents_365 = []#对每一个用户的365的数据放到一个数据集里面\n",
    "for i in range(len(GC_array)):      \n",
    "    if((i+1)%365==0): \n",
    "        agents_365.append(GC_array[i-364:i+1])"
   ]
  },
  {
   "cell_type": "code",
   "execution_count": 20,
   "metadata": {},
   "outputs": [
    {
     "data": {
      "image/png": "[encoded data removed]",
      "text/plain": [
       "<Figure size 432x288 with 1 Axes>"
      ]
     },
     "metadata": {
      "needs_background": "light"
     },
     "output_type": "display_data"
    }
   ],
   "source": [
    "import pandas as pd  #手肘法求最佳分类点\n",
    "from sklearn.cluster import KMeans  \n",
    "import matplotlib.pyplot as plt  \n",
    "  \n",
    "SSE = []  # 存放每次结果的误差平方和  \n",
    "for k in range(1,360):  \n",
    "    estimator = KMeans(n_clusters=k)  # 构造聚类器  \n",
    "    estimator.fit(agents_365[0])  \n",
    "    SSE.append(estimator.inertia_)  \n",
    "X = range(1,360)  \n",
    "plt.xlabel('k')  \n",
    "plt.ylabel('SSE')  \n",
    "plt.plot(X,SSE,'o-')  \n",
    "plt.show() "
   ]
  },
  {
   "cell_type": "code",
   "execution_count": 14,
   "metadata": {},
   "outputs": [],
   "source": [
    "from collections import defaultdict\n",
    "from random import uniform\n",
    "from math import sqrt\n",
    "import matplotlib.pyplot as plt\n",
    "\n",
    "\n",
    "def generate_list():\n",
    "    list = []\n",
    "    return list\n",
    "\n",
    "def point_avg(points):\n",
    "    \"\"\"\n",
    "    Accepts a list of points, each with the same number of dimensions.\n",
    "    NB. points can have more dimensions than 2\n",
    "    \n",
    "    Returns a new point which is the center of all the points.\n",
    "    \"\"\"\n",
    "    dimensions = len(points[0])\n",
    "\n",
    "    new_center = []\n",
    "\n",
    "    for dimension in range(dimensions):\n",
    "        dim_sum = 0  # dimension sum\n",
    "        for p in points:\n",
    "            dim_sum += p[dimension]\n",
    "\n",
    "        # average of each dimension\n",
    "        new_center.append(dim_sum / float(len(points)))\n",
    "\n",
    "    return new_center\n",
    "\n",
    "\n",
    "def update_centers(data_set, assignments):\n",
    "    \"\"\"\n",
    "    Accepts a dataset and a list of assignments; the indexes \n",
    "    of both lists correspond to each other.\n",
    "    Compute the center for each of the assigned groups.\n",
    "    Return `k` centers where `k` is the number of unique assignments.\n",
    "    \"\"\"\n",
    "    new_means = defaultdict(generate_list)\n",
    "    centers = []\n",
    "    for assignment, point in zip(assignments, data_set):\n",
    "        new_means[assignment].append(point)\n",
    "        \n",
    "    for points in new_means.values():\n",
    "        centers.append(point_avg(points))\n",
    "\n",
    "    return centers\n",
    "\n",
    "\n",
    "def assign_points(data_points, centers):\n",
    "    \"\"\"\n",
    "    Given a data set and a list of points betweeen other points,\n",
    "    assign each point to an index that corresponds to the index\n",
    "    of the center point on it's proximity to that point. \n",
    "    Return a an array of indexes of centers that correspond to\n",
    "    an index in the data set; that is, if there are N points\n",
    "    in `data_set` the list we return will have N elements. Also\n",
    "    If there are Y points in `centers` there will be Y unique\n",
    "    possible values within the returned list.\n",
    "    \"\"\"\n",
    "    assignments = []\n",
    "    for point in data_points:\n",
    "        shortest = (1000)  # positive infinity\n",
    "        shortest_index = 0\n",
    "        for i in range(len(centers)):\n",
    "            val = distance(point, centers[i])\n",
    "            if(val < shortest):\n",
    "                shortest = val\n",
    "                shortest_index = i\n",
    "        assignments.append(shortest_index)\n",
    "    return assignments\n",
    "\n",
    "\n",
    "def distance(a, b):\n",
    "    \"\"\"\n",
    "    \"\"\"\n",
    "    dimensions = len(a)\n",
    "    \n",
    "    _sum = 0\n",
    "    for dimension in range(dimensions):\n",
    "        difference_sq = (a[dimension] - b[dimension]) ** 2\n",
    "        _sum += difference_sq\n",
    "    return sqrt(_sum)\n",
    "\n",
    "\n",
    "def generate_k(data_set, k):\n",
    "    \"\"\"\n",
    "    Given `data_set`, which is an array of arrays,\n",
    "    find the minimum and maximum for each coordinate, a range.\n",
    "    Generate `k` random points between the ranges.\n",
    "    Return an array of the random points within the ranges.\n",
    "    \"\"\"\n",
    "    centers = []\n",
    "    dimensions = len(data_set[0])\n",
    "    min_max = defaultdict(int)\n",
    "\n",
    "    for point in data_set:\n",
    "        for i in range(dimensions):\n",
    "            val = point[i]\n",
    "            min_key = 'min_%d' % i\n",
    "            max_key = 'max_%d' % i\n",
    "            if min_key not in min_max or val < min_max[min_key]:\n",
    "                min_max[min_key] = val\n",
    "            if max_key not in min_max or val > min_max[max_key]:\n",
    "                min_max[max_key] = val\n",
    "\n",
    "    for _k in range(k):\n",
    "        rand_point = []\n",
    "        for i in range(dimensions):\n",
    "            min_val = min_max['min_%d' % i]\n",
    "            max_val = min_max['max_%d' % i]\n",
    "            \n",
    "            rand_point.append(uniform(min_val, max_val))\n",
    "\n",
    "        centers.append(rand_point)\n",
    "\n",
    "    return centers\n",
    "\n",
    "\n",
    "def k_means(dataset, k):\n",
    "    k_points = generate_k(dataset, k)\n",
    "    assignments = assign_points(dataset, k_points)\n",
    "    old_assignments = None\n",
    "    centers_history = []\n",
    "    while assignments != old_assignments:\n",
    "        new_centers = update_centers(dataset, assignments)\n",
    "        centers_history.append(new_centers)\n",
    "        old_assignments = assignments\n",
    "        assignments = assign_points(dataset, new_centers)#centers_history[-1]\n",
    "\n",
    "    return zip(assignments, dataset),centers_history"
   ]
  },
  {
   "cell_type": "code",
   "execution_count": 22,
   "metadata": {},
   "outputs": [
    {
     "data": {
      "text/plain": [
       "54"
      ]
     },
     "execution_count": 22,
     "metadata": {},
     "output_type": "execute_result"
    }
   ],
   "source": [
    "represent = []\n",
    "for i in range(len(agents_365)):\n",
    "    out,final_center = k_means(agents_365[i], 2)#agents_365[0]代表第一个用户的365天数据    \n",
    "    list = []   # so, we need to show it in list\n",
    "    for i in out:\n",
    "        list.append(i)\n",
    "    num0=str(list).count(\"0\")\n",
    "    num1=str(list).count(\"1\")\n",
    "    if(num0<num1):\n",
    "        represent.append(final_center[-1][1])\n",
    "    else:\n",
    "        represent.append(final_center[-1][0])\n",
    "len(represent)"
   ]
  },
  {
   "cell_type": "code",
   "execution_count": 23,
   "metadata": {},
   "outputs": [
    {
     "data": {
      "image/png": "[encoded data removed]",
      "text/plain": [
       "<Figure size 432x288 with 1 Axes>"
      ]
     },
     "metadata": {
      "needs_background": "light"
     },
     "output_type": "display_data"
    }
   ],
   "source": [
    "import pandas as pd  #手肘法求最佳分类点\n",
    "from sklearn.cluster import KMeans  \n",
    "import matplotlib.pyplot as plt  \n",
    "  \n",
    "SSE = []  # 存放每次结果的误差平方和  \n",
    "for k in range(1,30):  \n",
    "    estimator = KMeans(n_clusters=k)  # 构造聚类器  \n",
    "    estimator.fit(represent)  \n",
    "    SSE.append(estimator.inertia_)  \n",
    "X = range(1,30)  \n",
    "plt.xlabel('k')  \n",
    "plt.ylabel('SSE')  \n",
    "plt.plot(X,SSE,'o-')  \n",
    "plt.show() "
   ]
  },
  {
   "cell_type": "code",
   "execution_count": 142,
   "metadata": {},
   "outputs": [
    {
     "name": "stdout",
     "output_type": "stream",
     "text": [
      "training cluster\n"
     ]
    },
    {
     "data": {
      "image/png": "[encoded data removed]",
      "text/plain": [
       "<Figure size 432x288 with 1 Axes>"
      ]
     },
     "metadata": {
      "needs_background": "light"
     },
     "output_type": "display_data"
    }
   ],
   "source": [
    "from sklearn.cluster import KMeans\n",
    "import multiprocessing\n",
    "from sklearn.metrics import silhouette_score   \n",
    "def train_cluster(train_vecs, model_name=None, start_k=2, end_k=20):\n",
    "    print('training cluster')\n",
    "    scores = []\n",
    "    models = []\n",
    "    for i in range(start_k, end_k):\n",
    "        kmeans_model = KMeans(n_clusters=i, n_jobs=multiprocessing.cpu_count(), )\n",
    "        kmeans_model.fit(train_vecs)\n",
    "        score = silhouette_score(train_vecs,kmeans_model.labels_,metric='euclidean')\n",
    "        scores.append(score)  # 保存每一个k值的score值, 在这里用欧式距离\n",
    "        #print('{} Means score loss = {}'.format(i, score))\n",
    "        models.append(kmeans_model)\n",
    "\n",
    "    best_model = models[scores.index(max(scores))]\n",
    "    return scores\n",
    "scores=train_cluster(agents_365[1], model_name=None, start_k=2, end_k=20)\n",
    "X = range(2,20)  \n",
    "plt.xlabel('k')  \n",
    "plt.ylabel('Silhouette Coefficient')  \n",
    "plt.plot(X,scores,'o-')  \n",
    "plt.show() "
   ]
  },
  {
   "cell_type": "code",
   "execution_count": 141,
   "metadata": {},
   "outputs": [
    {
     "name": "stdout",
     "output_type": "stream",
     "text": [
      "training cluster\n",
      "2 Means score loss = 0.3363478142290727\n",
      "3 Means score loss = 0.34644965353923846\n",
      "4 Means score loss = 0.3505537741603713\n",
      "5 Means score loss = 0.34015614807114225\n",
      "6 Means score loss = 0.3148812478095694\n",
      "7 Means score loss = 0.28507391041004976\n",
      "8 Means score loss = 0.20175230600426183\n",
      "9 Means score loss = 0.2254809556334099\n",
      "10 Means score loss = 0.2032805953491744\n",
      "11 Means score loss = 0.17784337231189698\n",
      "12 Means score loss = 0.20242225278924494\n",
      "13 Means score loss = 0.21623614296274588\n",
      "14 Means score loss = 0.21156743115187648\n",
      "15 Means score loss = 0.20842004726546784\n",
      "16 Means score loss = 0.2217736464158464\n",
      "17 Means score loss = 0.21599769981774022\n",
      "18 Means score loss = 0.22356804939158967\n",
      "19 Means score loss = 0.20678240012823196\n"
     ]
    },
    {
     "data": {
      "image/png": "[encoded data removed]",
      "text/plain": [
       "<Figure size 432x288 with 1 Axes>"
      ]
     },
     "metadata": {
      "needs_background": "light"
     },
     "output_type": "display_data"
    }
   ],
   "source": [
    "scores=train_cluster(agents_365[0], model_name=None, start_k=2, end_k=20)\n",
    "X = range(2,20)  \n",
    "plt.xlabel('k')  \n",
    "plt.ylabel('Silhouette Coefficient')  \n",
    "plt.plot(X,scores,'o-')  \n",
    "plt.show() "
   ]
  },
  {
   "cell_type": "code",
   "execution_count": 143,
   "metadata": {},
   "outputs": [
    {
     "name": "stdout",
     "output_type": "stream",
     "text": [
      "training cluster\n"
     ]
    },
    {
     "data": {
      "image/png": "[encoded data removed]",
      "text/plain": [
       "<Figure size 432x288 with 1 Axes>"
      ]
     },
     "metadata": {
      "needs_background": "light"
     },
     "output_type": "display_data"
    }
   ],
   "source": [
    "scores=train_cluster(agents_365[2], model_name=None, start_k=2, end_k=20)\n",
    "X = range(2,20)  \n",
    "plt.xlabel('k')  \n",
    "plt.ylabel('Silhouette Coefficient')  \n",
    "plt.plot(X,scores,'o-')  \n",
    "plt.show() "
   ]
  },
  {
   "cell_type": "code",
   "execution_count": 135,
   "metadata": {},
   "outputs": [],
   "source": [
    "out,final_center = k_means(agents_365[2], 4)#agents_365[0]代表第一个用户的365天数据，四分类考虑春夏秋冬    \n",
    "list = []   # so, we need to show it in list\n",
    "for i in out:\n",
    "    list.append(i)"
   ]
  },
  {
   "cell_type": "code",
   "execution_count": 136,
   "metadata": {},
   "outputs": [
    {
     "data": {
      "text/plain": [
       "3.784666674772025"
      ]
     },
     "execution_count": 136,
     "metadata": {},
     "output_type": "execute_result"
    }
   ],
   "source": [
    "dist1=[]\n",
    "dist2=[]\n",
    "dist3=[]\n",
    "dist4=[]\n",
    "dist5=[]\n",
    "label_pred=[]\n",
    "points=[]\n",
    "length_list=len(list)\n",
    "for i in range(length_list):\n",
    "    if(list[i][0]==0):\n",
    "        dist1.append(distance(agents_365[0][i],final_center[-1][0]))\n",
    "    elif(list[i][0]==1):\n",
    "        dist2.append(distance(agents_365[0][i],final_center[-1][1]))\n",
    "    elif(list[i][0]==2):\n",
    "        dist3.append(distance(agents_365[0][i],final_center[-1][2]))\n",
    "    elif(list[i][0]==3):\n",
    "        dist4.append(distance(agents_365[0][i],final_center[-1][3]))\n",
    "    elif(list[i][0]==4):\n",
    "        dist5.append(distance(agents_365[0][i],final_center[-1][4]))\n",
    "dist1[0]"
   ]
  },
  {
   "cell_type": "code",
   "execution_count": 137,
   "metadata": {},
   "outputs": [
    {
     "data": {
      "image/png": "[encoded data removed]",
      "text/plain": [
       "<Figure size 432x288 with 1 Axes>"
      ]
     },
     "metadata": {
      "needs_background": "light"
     },
     "output_type": "display_data"
    }
   ],
   "source": [
    "import numpy as np\n",
    "dist11=dist1\n",
    "dist11.sort()\n",
    "max_dist11=dist11[-1]\n",
    "len_dist11=len(dist11)\n",
    "for i in range(len_dist11):\n",
    "    theta=(i+1)*360/(len_dist11+1)\n",
    "    x=max_dist11+dist11[i]*np.cos(theta)\n",
    "    y=max_dist11+dist11[i]*np.sin(theta)\n",
    "    plt.plot(x,y,c='b',marker='.')\n",
    "plt.plot(max_dist11, max_dist11, c='k', marker='.')\n",
    "plt.title('Distribution of the First Cluster')\n",
    "plt.show()"
   ]
  },
  {
   "cell_type": "code",
   "execution_count": 138,
   "metadata": {
    "scrolled": true
   },
   "outputs": [
    {
     "data": {
      "image/png": "[encoded data removed]",
      "text/plain": [
       "<Figure size 432x288 with 1 Axes>"
      ]
     },
     "metadata": {
      "needs_background": "light"
     },
     "output_type": "display_data"
    }
   ],
   "source": [
    "dist2.sort()\n",
    "max_dist2=dist2[-1]\n",
    "len_dist2=len(dist2)\n",
    "for i in range(len_dist2):\n",
    "    theta=(i+1)*360/(len_dist2+1)\n",
    "    x=max_dist2+dist2[i]*np.cos(theta)\n",
    "    y=max_dist2+dist2[i]*np.sin(theta)\n",
    "    plt.plot(x,y,c='b',marker='.')\n",
    "plt.plot(max_dist2, max_dist2, c='k', marker='.')\n",
    "plt.title('Distribution of the Second Cluster')\n",
    "plt.show()"
   ]
  },
  {
   "cell_type": "code",
   "execution_count": 139,
   "metadata": {},
   "outputs": [
    {
     "data": {
      "image/png": "[encoded data removed]",
      "text/plain": [
       "<Figure size 432x288 with 1 Axes>"
      ]
     },
     "metadata": {
      "needs_background": "light"
     },
     "output_type": "display_data"
    }
   ],
   "source": [
    "dist3.sort()\n",
    "max_dist3=dist3[-1]\n",
    "len_dist3=len(dist3)\n",
    "for i in range(len_dist3):\n",
    "    theta=(i+1)*360/(len_dist3+1)\n",
    "    x=max_dist3+dist3[i]*np.cos(theta)\n",
    "    y=max_dist3+dist3[i]*np.sin(theta)\n",
    "    plt.plot(x,y,c='b',marker='.')\n",
    "plt.plot(max_dist3, max_dist3, c='k', marker='.')\n",
    "plt.title('Distribution of the Third Cluster')\n",
    "plt.show()"
   ]
  },
  {
   "cell_type": "code",
   "execution_count": 140,
   "metadata": {},
   "outputs": [
    {
     "data": {
      "image/png": "[encoded data removed]",
      "text/plain": [
       "<Figure size 432x288 with 1 Axes>"
      ]
     },
     "metadata": {
      "needs_background": "light"
     },
     "output_type": "display_data"
    }
   ],
   "source": [
    "dist4.sort()\n",
    "max_dist4=dist4[-1]\n",
    "len_dist4=len(dist4)\n",
    "for i in range(len_dist4):\n",
    "    theta=(i+1)*360/(len_dist4+1)\n",
    "    x=max_dist4+dist4[i]*np.cos(theta)\n",
    "    y=max_dist4+dist4[i]*np.sin(theta)\n",
    "    plt.plot(x,y,c='b',marker='.')\n",
    "plt.plot(max_dist4, max_dist4, c='k', marker='.')\n",
    "plt.title('Distribution of the Fourth Cluster')\n",
    "plt.show()"
   ]
  },
  {
   "cell_type": "code",
   "execution_count": null,
   "metadata": {},
   "outputs": [],
   "source": []
  }
 ],
 "metadata": {
  "kernelspec": {
   "display_name": "chen",
   "language": "python",
   "name": "chen"
  },
  "language_info": {
   "codemirror_mode": {
    "name": "ipython",
    "version": 3
   },
   "file_extension": ".py",
   "mimetype": "text/x-python",
   "name": "python",
   "nbconvert_exporter": "python",
   "pygments_lexer": "ipython3",
   "version": "3.6.5"
  }
 },
 "nbformat": 4,
 "nbformat_minor": 2
}
